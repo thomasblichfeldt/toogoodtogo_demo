{
 "cells": [
  {
   "cell_type": "markdown",
   "id": "b0c7284d-2f5c-432a-aca7-b00cd9edcc63",
   "metadata": {},
   "source": [
    "# Beer - Choosing the right one for you!\n",
    "\n",
    "#### We all love beer, but choosing the right one can be difficult! This notebook seeks to help you select the best beers based on online beer reviews."
   ]
  },
  {
   "cell_type": "code",
   "execution_count": 1,
   "id": "b0bdb87c-a2d3-4729-9399-f986b15a5163",
   "metadata": {},
   "outputs": [],
   "source": [
    "# ----- Import libraries -----\n",
    "import matplotlib.pyplot as plt\n",
    "import numpy as np\n",
    "import pandas as pd\n",
    "import seaborn as sn\n",
    "\n",
    "from scipy.stats import norm\n",
    "from src.beer_utils import *"
   ]
  },
  {
   "cell_type": "code",
   "execution_count": 2,
   "id": "107f3290-a8c3-45b5-ab87-c3eb73bfb944",
   "metadata": {},
   "outputs": [
    {
     "data": {
      "text/html": [
       "<div>\n",
       "<style scoped>\n",
       "    .dataframe tbody tr th:only-of-type {\n",
       "        vertical-align: middle;\n",
       "    }\n",
       "\n",
       "    .dataframe tbody tr th {\n",
       "        vertical-align: top;\n",
       "    }\n",
       "\n",
       "    .dataframe thead th {\n",
       "        text-align: right;\n",
       "    }\n",
       "</style>\n",
       "<table border=\"1\" class=\"dataframe\">\n",
       "  <thead>\n",
       "    <tr style=\"text-align: right;\">\n",
       "      <th></th>\n",
       "      <th>brewery_id</th>\n",
       "      <th>brewery_name</th>\n",
       "      <th>review_time</th>\n",
       "      <th>review_overall</th>\n",
       "      <th>review_aroma</th>\n",
       "      <th>review_appearance</th>\n",
       "      <th>review_profilename</th>\n",
       "      <th>beer_style</th>\n",
       "      <th>review_palate</th>\n",
       "      <th>review_taste</th>\n",
       "      <th>beer_name</th>\n",
       "      <th>beer_abv</th>\n",
       "      <th>beer_beerid</th>\n",
       "    </tr>\n",
       "  </thead>\n",
       "  <tbody>\n",
       "    <tr>\n",
       "      <th>0</th>\n",
       "      <td>10325</td>\n",
       "      <td>Vecchio Birraio</td>\n",
       "      <td>1234817823</td>\n",
       "      <td>1.5</td>\n",
       "      <td>2.0</td>\n",
       "      <td>2.5</td>\n",
       "      <td>stcules</td>\n",
       "      <td>Hefeweizen</td>\n",
       "      <td>1.5</td>\n",
       "      <td>1.5</td>\n",
       "      <td>Sausa Weizen</td>\n",
       "      <td>5.0</td>\n",
       "      <td>47986</td>\n",
       "    </tr>\n",
       "    <tr>\n",
       "      <th>1</th>\n",
       "      <td>10325</td>\n",
       "      <td>Vecchio Birraio</td>\n",
       "      <td>1235915097</td>\n",
       "      <td>3.0</td>\n",
       "      <td>2.5</td>\n",
       "      <td>3.0</td>\n",
       "      <td>stcules</td>\n",
       "      <td>English Strong Ale</td>\n",
       "      <td>3.0</td>\n",
       "      <td>3.0</td>\n",
       "      <td>Red Moon</td>\n",
       "      <td>6.2</td>\n",
       "      <td>48213</td>\n",
       "    </tr>\n",
       "    <tr>\n",
       "      <th>2</th>\n",
       "      <td>10325</td>\n",
       "      <td>Vecchio Birraio</td>\n",
       "      <td>1235916604</td>\n",
       "      <td>3.0</td>\n",
       "      <td>2.5</td>\n",
       "      <td>3.0</td>\n",
       "      <td>stcules</td>\n",
       "      <td>Foreign / Export Stout</td>\n",
       "      <td>3.0</td>\n",
       "      <td>3.0</td>\n",
       "      <td>Black Horse Black Beer</td>\n",
       "      <td>6.5</td>\n",
       "      <td>48215</td>\n",
       "    </tr>\n",
       "    <tr>\n",
       "      <th>3</th>\n",
       "      <td>10325</td>\n",
       "      <td>Vecchio Birraio</td>\n",
       "      <td>1234725145</td>\n",
       "      <td>3.0</td>\n",
       "      <td>3.0</td>\n",
       "      <td>3.5</td>\n",
       "      <td>stcules</td>\n",
       "      <td>German Pilsener</td>\n",
       "      <td>2.5</td>\n",
       "      <td>3.0</td>\n",
       "      <td>Sausa Pils</td>\n",
       "      <td>5.0</td>\n",
       "      <td>47969</td>\n",
       "    </tr>\n",
       "    <tr>\n",
       "      <th>4</th>\n",
       "      <td>1075</td>\n",
       "      <td>Caldera Brewing Company</td>\n",
       "      <td>1293735206</td>\n",
       "      <td>4.0</td>\n",
       "      <td>4.5</td>\n",
       "      <td>4.0</td>\n",
       "      <td>johnmichaelsen</td>\n",
       "      <td>American Double / Imperial IPA</td>\n",
       "      <td>4.0</td>\n",
       "      <td>4.5</td>\n",
       "      <td>Cauldron DIPA</td>\n",
       "      <td>7.7</td>\n",
       "      <td>64883</td>\n",
       "    </tr>\n",
       "  </tbody>\n",
       "</table>\n",
       "</div>"
      ],
      "text/plain": [
       "   brewery_id             brewery_name  review_time  review_overall  \\\n",
       "0       10325          Vecchio Birraio   1234817823             1.5   \n",
       "1       10325          Vecchio Birraio   1235915097             3.0   \n",
       "2       10325          Vecchio Birraio   1235916604             3.0   \n",
       "3       10325          Vecchio Birraio   1234725145             3.0   \n",
       "4        1075  Caldera Brewing Company   1293735206             4.0   \n",
       "\n",
       "   review_aroma  review_appearance review_profilename  \\\n",
       "0           2.0                2.5            stcules   \n",
       "1           2.5                3.0            stcules   \n",
       "2           2.5                3.0            stcules   \n",
       "3           3.0                3.5            stcules   \n",
       "4           4.5                4.0     johnmichaelsen   \n",
       "\n",
       "                       beer_style  review_palate  review_taste  \\\n",
       "0                      Hefeweizen            1.5           1.5   \n",
       "1              English Strong Ale            3.0           3.0   \n",
       "2          Foreign / Export Stout            3.0           3.0   \n",
       "3                 German Pilsener            2.5           3.0   \n",
       "4  American Double / Imperial IPA            4.0           4.5   \n",
       "\n",
       "                beer_name  beer_abv  beer_beerid  \n",
       "0            Sausa Weizen       5.0        47986  \n",
       "1                Red Moon       6.2        48213  \n",
       "2  Black Horse Black Beer       6.5        48215  \n",
       "3              Sausa Pils       5.0        47969  \n",
       "4           Cauldron DIPA       7.7        64883  "
      ]
     },
     "execution_count": 2,
     "metadata": {},
     "output_type": "execute_result"
    }
   ],
   "source": [
    "# ----- Import data and get an overview of the data -----\n",
    "BEER_DATA_PATH = 'data/beer_reviews.csv'\n",
    "raw_beer_data = pd.read_csv(BEER_DATA_PATH)\n",
    "raw_beer_data.head(5)"
   ]
  },
  {
   "cell_type": "markdown",
   "id": "452d7098-32a1-4db1-8229-50bd7a91a120",
   "metadata": {},
   "source": [
    "# Can we use all the data?\n",
    "\n",
    "#### There are some missing values in the data, however the impact of those missing values depends from use case to use case, so we will not remove any rows for now"
   ]
  },
  {
   "cell_type": "code",
   "execution_count": 3,
   "id": "4cb355b6-b307-4c5e-a8cb-4e3fbb730e23",
   "metadata": {},
   "outputs": [
    {
     "data": {
      "text/plain": [
       "brewery_id                0\n",
       "brewery_name             15\n",
       "review_time               0\n",
       "review_overall            0\n",
       "review_aroma              0\n",
       "review_appearance         0\n",
       "review_profilename      348\n",
       "beer_style                0\n",
       "review_palate             0\n",
       "review_taste              0\n",
       "beer_name                 0\n",
       "beer_abv              67785\n",
       "beer_beerid               0\n",
       "dtype: int64"
      ]
     },
     "execution_count": 3,
     "metadata": {},
     "output_type": "execute_result"
    }
   ],
   "source": [
    "raw_beer_data.isna().sum()"
   ]
  },
  {
   "cell_type": "markdown",
   "id": "34a30b4f-adc5-421a-a8e8-4a93a30391e0",
   "metadata": {},
   "source": [
    "# What makes a good beer?\n",
    "\n",
    "#### There could be many arguements to what makes a beer good. One of them might be that the higher alcohol volumne by volumne (abv) beer has, the better it is. If that is your mantra, then you could just get your beers from the brewery with the highest average abv"
   ]
  },
  {
   "cell_type": "code",
   "execution_count": 4,
   "id": "bce33769-8711-4f79-b3aa-197b6e1d3fb1",
   "metadata": {},
   "outputs": [
    {
     "data": {
      "text/plain": [
       "<AxesSubplot:xlabel='brewery_name'>"
      ]
     },
     "execution_count": 4,
     "metadata": {},
     "output_type": "execute_result"
    },
    {
     "data": {
      "image/png": "[encoded data removed]",
      "text/plain": [
       "<Figure size 432x288 with 1 Axes>"
      ]
     },
     "metadata": {
      "needs_background": "light"
     },
     "output_type": "display_data"
    }
   ],
   "source": [
    "# ----- Find the highest average abv among breweries -----\n",
    "brewery_average_abv, max_average_abv, max_average_abv_name = highest_abv_by_group(df=raw_beer_data, group_type='brewery_name')\n",
    "brewery_average_abv.nlargest(10).plot(kind='bar')"
   ]
  },
  {
   "cell_type": "markdown",
   "id": "bf7c5c1d-085b-4768-9614-7903ceefc438",
   "metadata": {},
   "source": [
    "#### Or maybe we can find your new favorite beer style based on abv?"
   ]
  },
  {
   "cell_type": "code",
   "execution_count": 5,
   "id": "ad8a32f6-eff8-4610-8f67-dcb73f4f42af",
   "metadata": {},
   "outputs": [
    {
     "data": {
      "text/plain": [
       "<AxesSubplot:xlabel='beer_style'>"
      ]
     },
     "execution_count": 5,
     "metadata": {},
     "output_type": "execute_result"
    },
    {
     "data": {
      "image/png": "[encoded data removed]",
      "text/plain": [
       "<Figure size 432x288 with 1 Axes>"
      ]
     },
     "metadata": {
      "needs_background": "light"
     },
     "output_type": "display_data"
    }
   ],
   "source": [
    "# ----- Find the highest average abv among beer styles -----\n",
    "beer_type_average_abv, max_average_beer_type_abv, max_average_beer_type_abv_name = highest_abv_by_group(df=raw_beer_data, group_type='beer_style')\n",
    "beer_type_average_abv.nlargest(10).plot(kind='bar')"
   ]
  },
  {
   "cell_type": "markdown",
   "id": "de446b86-ace3-4265-894a-55018de3623d",
   "metadata": {},
   "source": [
    "# But...Is abv really the only factor to consider when choosing a beer?"
   ]
  },
  {
   "cell_type": "markdown",
   "id": "199e294f-0271-4cb0-a18b-bc48a12d7f90",
   "metadata": {},
   "source": [
    "#### If we actually want a pleasant experience, we might need to look at other factors that makes a beer great. Luckely we have a LOT of reviews made by beer enthusiasts all around the world, who have rated the beers on different aspects:"
   ]
  },
  {
   "cell_type": "code",
   "execution_count": 6,
   "id": "b7a4e819-955a-45ed-9e5e-67c0263395e3",
   "metadata": {},
   "outputs": [
    {
     "data": {
      "text/html": [
       "<div>\n",
       "<style scoped>\n",
       "    .dataframe tbody tr th:only-of-type {\n",
       "        vertical-align: middle;\n",
       "    }\n",
       "\n",
       "    .dataframe tbody tr th {\n",
       "        vertical-align: top;\n",
       "    }\n",
       "\n",
       "    .dataframe thead th {\n",
       "        text-align: right;\n",
       "    }\n",
       "</style>\n",
       "<table border=\"1\" class=\"dataframe\">\n",
       "  <thead>\n",
       "    <tr style=\"text-align: right;\">\n",
       "      <th></th>\n",
       "      <th>review_overall</th>\n",
       "      <th>review_aroma</th>\n",
       "      <th>review_appearance</th>\n",
       "      <th>review_palate</th>\n",
       "      <th>review_taste</th>\n",
       "    </tr>\n",
       "  </thead>\n",
       "  <tbody>\n",
       "    <tr>\n",
       "      <th>0</th>\n",
       "      <td>1.5</td>\n",
       "      <td>2.0</td>\n",
       "      <td>2.5</td>\n",
       "      <td>1.5</td>\n",
       "      <td>1.5</td>\n",
       "    </tr>\n",
       "    <tr>\n",
       "      <th>1</th>\n",
       "      <td>3.0</td>\n",
       "      <td>2.5</td>\n",
       "      <td>3.0</td>\n",
       "      <td>3.0</td>\n",
       "      <td>3.0</td>\n",
       "    </tr>\n",
       "    <tr>\n",
       "      <th>2</th>\n",
       "      <td>3.0</td>\n",
       "      <td>2.5</td>\n",
       "      <td>3.0</td>\n",
       "      <td>3.0</td>\n",
       "      <td>3.0</td>\n",
       "    </tr>\n",
       "    <tr>\n",
       "      <th>3</th>\n",
       "      <td>3.0</td>\n",
       "      <td>3.0</td>\n",
       "      <td>3.5</td>\n",
       "      <td>2.5</td>\n",
       "      <td>3.0</td>\n",
       "    </tr>\n",
       "    <tr>\n",
       "      <th>4</th>\n",
       "      <td>4.0</td>\n",
       "      <td>4.5</td>\n",
       "      <td>4.0</td>\n",
       "      <td>4.0</td>\n",
       "      <td>4.5</td>\n",
       "    </tr>\n",
       "  </tbody>\n",
       "</table>\n",
       "</div>"
      ],
      "text/plain": [
       "   review_overall  review_aroma  review_appearance  review_palate  \\\n",
       "0             1.5           2.0                2.5            1.5   \n",
       "1             3.0           2.5                3.0            3.0   \n",
       "2             3.0           2.5                3.0            3.0   \n",
       "3             3.0           3.0                3.5            2.5   \n",
       "4             4.0           4.5                4.0            4.0   \n",
       "\n",
       "   review_taste  \n",
       "0           1.5  \n",
       "1           3.0  \n",
       "2           3.0  \n",
       "3           3.0  \n",
       "4           4.5  "
      ]
     },
     "execution_count": 6,
     "metadata": {},
     "output_type": "execute_result"
    }
   ],
   "source": [
    "raw_beer_data[['review_overall','review_aroma', 'review_appearance', 'review_palate', 'review_taste']].head(5)"
   ]
  },
  {
   "cell_type": "markdown",
   "id": "2443918a-2fa9-4201-a19f-345ef0e3f927",
   "metadata": {},
   "source": [
    "#### We want to use these reviews, but how many reviews are enough for us to feel comfortible with the accuracy of the reviews?\n",
    "\n",
    "#### According to Amazon, there should be atleast 25 reviews on a product before we trust it: https://www.searchenginejournal.com/amazon-product-reviews-best-practices/388179/#close\n",
    "\n",
    "#### This might be a bit different in the beer world as the people reviewing might be more serious, so lets cut the threshold to atleast 10 reviews for now."
   ]
  },
  {
   "cell_type": "code",
   "execution_count": 7,
   "id": "9f9d4d6b-e3f5-4ced-906c-864d079691f5",
   "metadata": {},
   "outputs": [
    {
     "name": "stdout",
     "output_type": "stream",
     "text": [
      "Removed: 129994 reviews\n",
      "Remaining reviews: 1456620\n"
     ]
    }
   ],
   "source": [
    "# ----- Remove beers that have less than 10 reviews -----\n",
    "filtered_beer_data = raw_beer_data[raw_beer_data.groupby('beer_beerid').beer_beerid.transform('count') >= 10]\n",
    "\n",
    "print(f\"Removed: {raw_beer_data.shape[0] - filtered_beer_data.shape[0]} reviews\")\n",
    "print(f\"Remaining reviews: {filtered_beer_data.shape[0]}\")"
   ]
  },
  {
   "cell_type": "code",
   "execution_count": 8,
   "id": "ba81b5d9-0177-49c6-b3f6-a536b7f94665",
   "metadata": {},
   "outputs": [
    {
     "name": "stderr",
     "output_type": "stream",
     "text": [
      "/var/folders/v9/yy3nscw51f7gcvr27jp8_n2m0000gn/T/ipykernel_67689/1040366702.py:1: FutureWarning: Dropping of nuisance columns in DataFrame reductions (with 'numeric_only=None') is deprecated; in a future version this will raise TypeError.  Select only valid columns before calling the reduction.\n",
      "  filtered_beer_data.std()\n"
     ]
    },
    {
     "data": {
      "text/plain": [
       "brewery_id           5.237802e+03\n",
       "review_time          7.577260e+07\n",
       "review_overall       7.150213e-01\n",
       "review_aroma         6.946780e-01\n",
       "review_appearance    6.139281e-01\n",
       "review_palate        6.779123e-01\n",
       "review_taste         7.273333e-01\n",
       "beer_abv             2.331480e+00\n",
       "beer_beerid          2.108888e+04\n",
       "dtype: float64"
      ]
     },
     "execution_count": 8,
     "metadata": {},
     "output_type": "execute_result"
    }
   ],
   "source": [
    "filtered_beer_data.std()"
   ]
  },
  {
   "cell_type": "markdown",
   "id": "2c9d34e4-dbcc-49a1-8a30-d17959824099",
   "metadata": {},
   "source": [
    "#### Furthermore, we will remove rows where a user has reviewed the same beer twice"
   ]
  },
  {
   "cell_type": "code",
   "execution_count": 9,
   "id": "b4ecb748-4171-4d55-ad6a-a136300ca99f",
   "metadata": {},
   "outputs": [
    {
     "name": "stdout",
     "output_type": "stream",
     "text": [
      "Removed: 14242 reviews\n",
      "Remaining reviews: 1442378\n"
     ]
    },
    {
     "name": "stderr",
     "output_type": "stream",
     "text": [
      "/usr/local/lib/python3.8/site-packages/pandas/util/_decorators.py:311: SettingWithCopyWarning: \n",
      "A value is trying to be set on a copy of a slice from a DataFrame\n",
      "\n",
      "See the caveats in the documentation: https://pandas.pydata.org/pandas-docs/stable/user_guide/indexing.html#returning-a-view-versus-a-copy\n",
      "  return func(*args, **kwargs)\n"
     ]
    }
   ],
   "source": [
    "old_shape = filtered_beer_data.shape[0]\n",
    "filtered_beer_data.drop_duplicates(['beer_beerid','review_profilename'], inplace=True)\n",
    "\n",
    "print(f\"Removed: {old_shape - filtered_beer_data.shape[0]} reviews\")\n",
    "print(f\"Remaining reviews: {filtered_beer_data.shape[0]}\")"
   ]
  },
  {
   "cell_type": "markdown",
   "id": "bf4ca27f-407a-406e-99de-6159d4b099f0",
   "metadata": {},
   "source": [
    "# So which characteristics are actually important for good reviews?"
   ]
  },
  {
   "cell_type": "code",
   "execution_count": 10,
   "id": "9e342aeb-2459-441c-bb2c-fa1006123cb3",
   "metadata": {},
   "outputs": [
    {
     "data": {
      "image/png": "[encoded data removed]",
      "text/plain": [
       "<Figure size 432x288 with 2 Axes>"
      ]
     },
     "metadata": {
      "needs_background": "light"
     },
     "output_type": "display_data"
    }
   ],
   "source": [
    "corr_matrix = filtered_beer_data[['review_overall','review_aroma', 'review_appearance', 'review_palate', 'review_taste', 'beer_abv']].corr()\n",
    "sn.heatmap(corr_matrix, annot=True)\n",
    "plt.show()"
   ]
  },
  {
   "cell_type": "markdown",
   "id": "21e65b18-3056-41bb-a047-1c9e1a39a5c9",
   "metadata": {},
   "source": [
    "#### We can see that the biggest influence to how highly others have rated a beer is Taste, followed by Palate, then Aroma and finally Appearance.\n",
    "\n",
    "#### It is also worth to note that the beers ABV have a minor impact on the overall rating, so while it is good for getting drunk, it is not a strong indicator for how enjoyable the beer is"
   ]
  },
  {
   "cell_type": "markdown",
   "id": "30f06454-82a3-489f-bbac-6b5dc1962f07",
   "metadata": {},
   "source": [
    "# So if we were to suggest the 3 best beers based on these criteria, how should we select them?\n",
    "\n",
    "#### We know that the different factors of a beer has different impact on the overall rating, so lets save the correlation as weights for later use"
   ]
  },
  {
   "cell_type": "code",
   "execution_count": 11,
   "id": "2f465be2-e9f3-4fc0-9103-e89b62ffea6b",
   "metadata": {},
   "outputs": [],
   "source": [
    "# ----- Get correlations and save as weights -----\n",
    "beer_weights = corr_matrix['review_overall'].to_dict()\n",
    "del beer_weights['review_overall']\n",
    "del beer_weights['beer_abv']"
   ]
  },
  {
   "cell_type": "code",
   "execution_count": 12,
   "id": "5f52a2ff-c36a-4dbc-97b4-2bd13133fcb3",
   "metadata": {},
   "outputs": [
    {
     "data": {
      "text/plain": [
       "{'review_aroma': 0.6074390045937154,\n",
       " 'review_appearance': 0.49427909459009084,\n",
       " 'review_palate': 0.6953847501074837,\n",
       " 'review_taste': 0.7842307297063619}"
      ]
     },
     "execution_count": 12,
     "metadata": {},
     "output_type": "execute_result"
    }
   ],
   "source": [
    "beer_weights"
   ]
  },
  {
   "cell_type": "markdown",
   "id": "19a00c61-0f4c-4ec0-85e0-4096e15843a7",
   "metadata": {},
   "source": [
    "#### When selecting the beers we also need to consider that reivews might vary. So we create a new dataset where we take the average of each review aspect for each beer"
   ]
  },
  {
   "cell_type": "code",
   "execution_count": 13,
   "id": "17f2e099-8571-453d-a459-a81b21d6e982",
   "metadata": {},
   "outputs": [],
   "source": [
    "# ----- Get mean values of reviews, grouped by beer id -----\n",
    "filtered_mean_beer_data = get_mean_review_scores_dataframe(df=filtered_beer_data.copy())"
   ]
  },
  {
   "cell_type": "markdown",
   "id": "c6b90f90-a1b5-44dc-a86a-d601d6248cc1",
   "metadata": {},
   "source": [
    "# Now lets figure out which 3 beers that seems safe to recommend"
   ]
  },
  {
   "cell_type": "markdown",
   "id": "37fd326a-0b89-4636-93ae-e909785b692f",
   "metadata": {},
   "source": [
    "#### We could just recommend the 3 beers with the highest overall rating"
   ]
  },
  {
   "cell_type": "code",
   "execution_count": 14,
   "id": "d24e0c07-63eb-4d6b-a6bf-99cd00e9e1b9",
   "metadata": {},
   "outputs": [
    {
     "data": {
      "text/html": [
       "<div>\n",
       "<style scoped>\n",
       "    .dataframe tbody tr th:only-of-type {\n",
       "        vertical-align: middle;\n",
       "    }\n",
       "\n",
       "    .dataframe tbody tr th {\n",
       "        vertical-align: top;\n",
       "    }\n",
       "\n",
       "    .dataframe thead th {\n",
       "        text-align: right;\n",
       "    }\n",
       "</style>\n",
       "<table border=\"1\" class=\"dataframe\">\n",
       "  <thead>\n",
       "    <tr style=\"text-align: right;\">\n",
       "      <th></th>\n",
       "      <th>beer_beerid</th>\n",
       "      <th>review_overall</th>\n",
       "      <th>review_aroma</th>\n",
       "      <th>review_appearance</th>\n",
       "      <th>review_palate</th>\n",
       "      <th>review_taste</th>\n",
       "      <th>brewery_id</th>\n",
       "      <th>brewery_name</th>\n",
       "      <th>beer_style</th>\n",
       "      <th>beer_name</th>\n",
       "      <th>beer_abv</th>\n",
       "    </tr>\n",
       "  </thead>\n",
       "  <tbody>\n",
       "    <tr>\n",
       "      <th>1396642</th>\n",
       "      <td>63649</td>\n",
       "      <td>4.848485</td>\n",
       "      <td>4.757576</td>\n",
       "      <td>4.469697</td>\n",
       "      <td>4.803030</td>\n",
       "      <td>4.848485</td>\n",
       "      <td>22147</td>\n",
       "      <td>Peg's Cantina &amp; Brewpub / Cycle Brewing</td>\n",
       "      <td>American Double / Imperial Stout</td>\n",
       "      <td>Rare D.O.S.</td>\n",
       "      <td>NaN</td>\n",
       "    </tr>\n",
       "    <tr>\n",
       "      <th>1312195</th>\n",
       "      <td>54147</td>\n",
       "      <td>4.846154</td>\n",
       "      <td>4.653846</td>\n",
       "      <td>4.461538</td>\n",
       "      <td>4.538462</td>\n",
       "      <td>4.807692</td>\n",
       "      <td>18149</td>\n",
       "      <td>The Lost Abbey</td>\n",
       "      <td>American Wild Ale</td>\n",
       "      <td>Veritas 005</td>\n",
       "      <td>8.0</td>\n",
       "    </tr>\n",
       "    <tr>\n",
       "      <th>1189286</th>\n",
       "      <td>44910</td>\n",
       "      <td>4.820513</td>\n",
       "      <td>4.615385</td>\n",
       "      <td>4.423077</td>\n",
       "      <td>4.576923</td>\n",
       "      <td>4.743590</td>\n",
       "      <td>15237</td>\n",
       "      <td>De Struise Brouwers</td>\n",
       "      <td>Lambic - Unblended</td>\n",
       "      <td>Dirty Horse</td>\n",
       "      <td>7.0</td>\n",
       "    </tr>\n",
       "  </tbody>\n",
       "</table>\n",
       "</div>"
      ],
      "text/plain": [
       "         beer_beerid  review_overall  review_aroma  review_appearance  \\\n",
       "1396642        63649        4.848485      4.757576           4.469697   \n",
       "1312195        54147        4.846154      4.653846           4.461538   \n",
       "1189286        44910        4.820513      4.615385           4.423077   \n",
       "\n",
       "         review_palate  review_taste  brewery_id  \\\n",
       "1396642       4.803030      4.848485       22147   \n",
       "1312195       4.538462      4.807692       18149   \n",
       "1189286       4.576923      4.743590       15237   \n",
       "\n",
       "                                    brewery_name  \\\n",
       "1396642  Peg's Cantina & Brewpub / Cycle Brewing   \n",
       "1312195                           The Lost Abbey   \n",
       "1189286                      De Struise Brouwers   \n",
       "\n",
       "                               beer_style    beer_name  beer_abv  \n",
       "1396642  American Double / Imperial Stout  Rare D.O.S.       NaN  \n",
       "1312195                 American Wild Ale  Veritas 005       8.0  \n",
       "1189286                Lambic - Unblended  Dirty Horse       7.0  "
      ]
     },
     "execution_count": 14,
     "metadata": {},
     "output_type": "execute_result"
    }
   ],
   "source": [
    "filtered_mean_beer_data.sort_values(by=['review_overall'], inplace=True, ascending=False)\n",
    "filtered_mean_beer_data.head(3)"
   ]
  },
  {
   "cell_type": "markdown",
   "id": "c8f150f0-5d4f-4314-963b-e03c16781c13",
   "metadata": {},
   "source": [
    "#### However, we could also suggest the 3 beers who have the highest summed review after applying the weights we know are important for a beers score"
   ]
  },
  {
   "cell_type": "code",
   "execution_count": 15,
   "id": "5a2306c4-c04d-4b6a-8272-b587e965e74f",
   "metadata": {},
   "outputs": [
    {
     "data": {
      "text/html": [
       "<div>\n",
       "<style scoped>\n",
       "    .dataframe tbody tr th:only-of-type {\n",
       "        vertical-align: middle;\n",
       "    }\n",
       "\n",
       "    .dataframe tbody tr th {\n",
       "        vertical-align: top;\n",
       "    }\n",
       "\n",
       "    .dataframe thead th {\n",
       "        text-align: right;\n",
       "    }\n",
       "</style>\n",
       "<table border=\"1\" class=\"dataframe\">\n",
       "  <thead>\n",
       "    <tr style=\"text-align: right;\">\n",
       "      <th></th>\n",
       "      <th>beer_beerid</th>\n",
       "      <th>review_overall</th>\n",
       "      <th>review_aroma</th>\n",
       "      <th>review_appearance</th>\n",
       "      <th>review_palate</th>\n",
       "      <th>review_taste</th>\n",
       "      <th>brewery_id</th>\n",
       "      <th>brewery_name</th>\n",
       "      <th>beer_style</th>\n",
       "      <th>beer_name</th>\n",
       "      <th>beer_abv</th>\n",
       "      <th>beer_score</th>\n",
       "    </tr>\n",
       "  </thead>\n",
       "  <tbody>\n",
       "    <tr>\n",
       "      <th>903254</th>\n",
       "      <td>24273</td>\n",
       "      <td>4.750000</td>\n",
       "      <td>6.000592</td>\n",
       "      <td>5.470701</td>\n",
       "      <td>6.194341</td>\n",
       "      <td>6.425604</td>\n",
       "      <td>385</td>\n",
       "      <td>Midnight Sun Brewing Co.</td>\n",
       "      <td>American Barleywine</td>\n",
       "      <td>M Belgian-Style Barleywine</td>\n",
       "      <td>11.6</td>\n",
       "      <td>24.091239</td>\n",
       "    </tr>\n",
       "    <tr>\n",
       "      <th>1396642</th>\n",
       "      <td>63649</td>\n",
       "      <td>4.848485</td>\n",
       "      <td>5.972454</td>\n",
       "      <td>5.458255</td>\n",
       "      <td>6.193800</td>\n",
       "      <td>6.416946</td>\n",
       "      <td>22147</td>\n",
       "      <td>Peg's Cantina &amp; Brewpub / Cycle Brewing</td>\n",
       "      <td>American Double / Imperial Stout</td>\n",
       "      <td>Rare D.O.S.</td>\n",
       "      <td>NaN</td>\n",
       "      <td>24.041455</td>\n",
       "    </tr>\n",
       "    <tr>\n",
       "      <th>1420914</th>\n",
       "      <td>68548</td>\n",
       "      <td>4.730769</td>\n",
       "      <td>5.930263</td>\n",
       "      <td>5.511635</td>\n",
       "      <td>6.060000</td>\n",
       "      <td>6.299231</td>\n",
       "      <td>2216</td>\n",
       "      <td>Brouwerij Drie Fonteinen</td>\n",
       "      <td>Gueuze</td>\n",
       "      <td>Armand'4 Oude Geuze Lente (Spring)</td>\n",
       "      <td>6.0</td>\n",
       "      <td>23.801129</td>\n",
       "    </tr>\n",
       "  </tbody>\n",
       "</table>\n",
       "</div>"
      ],
      "text/plain": [
       "         beer_beerid  review_overall  review_aroma  review_appearance  \\\n",
       "903254         24273        4.750000      6.000592           5.470701   \n",
       "1396642        63649        4.848485      5.972454           5.458255   \n",
       "1420914        68548        4.730769      5.930263           5.511635   \n",
       "\n",
       "         review_palate  review_taste  brewery_id  \\\n",
       "903254        6.194341      6.425604         385   \n",
       "1396642       6.193800      6.416946       22147   \n",
       "1420914       6.060000      6.299231        2216   \n",
       "\n",
       "                                    brewery_name  \\\n",
       "903254                  Midnight Sun Brewing Co.   \n",
       "1396642  Peg's Cantina & Brewpub / Cycle Brewing   \n",
       "1420914                 Brouwerij Drie Fonteinen   \n",
       "\n",
       "                               beer_style                           beer_name  \\\n",
       "903254                American Barleywine          M Belgian-Style Barleywine   \n",
       "1396642  American Double / Imperial Stout                         Rare D.O.S.   \n",
       "1420914                            Gueuze  Armand'4 Oude Geuze Lente (Spring)   \n",
       "\n",
       "         beer_abv  beer_score  \n",
       "903254       11.6   24.091239  \n",
       "1396642       NaN   24.041455  \n",
       "1420914       6.0   23.801129  "
      ]
     },
     "execution_count": 15,
     "metadata": {},
     "output_type": "execute_result"
    }
   ],
   "source": [
    "top_3_beers_with_weights = get_top_n_beers(df=filtered_mean_beer_data.copy(), num_beers=3, weights=beer_weights)\n",
    "top_3_beers_with_weights"
   ]
  },
  {
   "cell_type": "markdown",
   "id": "d577e109-9e63-4c83-ba2a-b83069b81be8",
   "metadata": {},
   "source": [
    "#### This would give us a top 3 selection with 2 beers different from just using the top review_overall. And even suggest a beer that is high on abv for the volume lovers!"
   ]
  },
  {
   "cell_type": "markdown",
   "id": "f9ce8f1f-ac6b-4528-91ed-0bf876163c0a",
   "metadata": {},
   "source": [
    "# Finally, what if you want to select a beer style on your own personal taste?"
   ]
  },
  {
   "cell_type": "markdown",
   "id": "8f0a2e5b-e820-47f6-8b02-a7388b557d46",
   "metadata": {},
   "source": [
    "#### Lets say you prefer beers with a good aroma and a nice appearance. How do you select that? One suggestion could be to select the beer style with the highest average aroma and appearence sum:"
   ]
  },
  {
   "cell_type": "code",
   "execution_count": 16,
   "id": "a5c9c4a3-7398-4178-b155-4f7e77746db4",
   "metadata": {},
   "outputs": [
    {
     "data": {
      "text/plain": [
       "beer_style\n",
       "Russian Imperial Stout              8.135959\n",
       "American Double / Imperial Stout    8.118486\n",
       "American Wild Ale                   8.014622\n",
       "dtype: float64"
      ]
     },
     "execution_count": 16,
     "metadata": {},
     "output_type": "execute_result"
    }
   ],
   "source": [
    "beer_type_group = filtered_mean_beer_data.copy().groupby('beer_style')\n",
    "beer_type_group[['review_appearance', 'review_aroma']].mean().sum(axis=1).sort_values(ascending=False).head(3)"
   ]
  },
  {
   "cell_type": "markdown",
   "id": "fca28f63-380c-4001-8fc4-74d385c969a9",
   "metadata": {},
   "source": [
    "#### With this method, a person who enjoys Apperance and Aroma should go after a Russian Imperial Stout"
   ]
  },
  {
   "cell_type": "markdown",
   "id": "64f415a8-142b-4c35-affd-a67600d8d4b8",
   "metadata": {},
   "source": [
    "# We could also try and look at the users who seem to value appearance and aroma to see which beer types they prefer\n",
    "\n",
    "#### To do so, we will select the top 10% of users who have the highest correlation between their overall beer rating and their Appearance/Aroma rating. "
   ]
  },
  {
   "cell_type": "code",
   "execution_count": 17,
   "id": "162fbb78-7038-461a-92c3-af2ebceb9723",
   "metadata": {},
   "outputs": [],
   "source": [
    "# ----- Group data by profilenames of reviewers -----\n",
    "reviewer_grp = filtered_beer_data.copy().groupby('review_profilename')\n",
    "\n",
    "# ----- Create empty dictionary to add new Appearance/Aroma correlation -----\n",
    "aroma_appearance_dict = {\n",
    "    'aroma_appearance_enjoyment': [],\n",
    "    'review_profilename': []\n",
    "}\n",
    "\n",
    "# ----- Add each users summed correlation between the overall review and Appearance/Aroma\n",
    "for profile_name, reviews in reviewer_grp:\n",
    "    corre = reviews[['review_overall', 'review_aroma', 'review_appearance']].corr()\n",
    "    aroma_appearance_sum = corre['review_overall']['review_aroma'] + corre['review_overall']['review_appearance']\n",
    "    if not np.isnan(aroma_appearance_sum):\n",
    "        aroma_appearance_dict['aroma_appearance_enjoyment'].append(aroma_appearance_sum)\n",
    "        aroma_appearance_dict['review_profilename'].append(profile_name)\n",
    "\n",
    "# ----- Create new dataframe based on Appearance/Aroma correlation data -----\n",
    "aroma_appearance_df = pd.DataFrame(aroma_appearance_dict)"
   ]
  },
  {
   "cell_type": "code",
   "execution_count": 18,
   "id": "675f2994-f269-45ab-bc1d-bff5cb84415b",
   "metadata": {},
   "outputs": [],
   "source": [
    "# ----- Add Appearance/Aroma correlation to existing data -----\n",
    "filtered_beer_data_appearance_aroma = pd.merge(filtered_beer_data.copy(),aroma_appearance_df,how='left',on='review_profilename')"
   ]
  },
  {
   "cell_type": "code",
   "execution_count": 19,
   "id": "7d4ed797-a78f-45ef-b58c-d45a217a88b3",
   "metadata": {},
   "outputs": [],
   "source": [
    "# ----- Get the top ten percent of users who have the highest correlation between their overall rating and their Appearance/Aroma rating ----- -----\n",
    "users = filtered_beer_data_appearance_aroma.copy().drop_duplicates(subset=['review_profilename'])\n",
    "users.sort_values(by=['aroma_appearance_enjoyment'], inplace=True, ascending=False)\n",
    "top_10_percentile_users = users.head(int(len(users)*(10/100)))\n",
    "users_to_keep = top_10_percentile_users['review_profilename'].tolist()"
   ]
  },
  {
   "cell_type": "code",
   "execution_count": 20,
   "id": "826076aa-5605-449c-a053-051713cfec0d",
   "metadata": {},
   "outputs": [],
   "source": [
    "# ----- Get all reviews from the Appearance/Aroma users -----\n",
    "appearance_aroma_user_reviews = filtered_beer_data_appearance_aroma[filtered_beer_data_appearance_aroma['review_profilename'].isin(users_to_keep)]"
   ]
  },
  {
   "cell_type": "markdown",
   "id": "09a083e2-d79c-426c-98be-f7f845751f6d",
   "metadata": {},
   "source": [
    "#### Here it seems that the users that value Appearance and Aroma high, have it as a higher correlation to their overall review than when grouping all users together, meaning that Appearance and Aroma are valued around as much as the other two review variables."
   ]
  },
  {
   "cell_type": "code",
   "execution_count": 21,
   "id": "51354796-4014-44c0-bc7f-57e8f9b828df",
   "metadata": {},
   "outputs": [
    {
     "data": {
      "image/png": "[encoded data removed]",
      "text/plain": [
       "<Figure size 432x288 with 2 Axes>"
      ]
     },
     "metadata": {
      "needs_background": "light"
     },
     "output_type": "display_data"
    }
   ],
   "source": [
    "appearance_aroma_user_corr_matrix = appearance_aroma_user_reviews[['review_overall','review_aroma', 'review_appearance', 'review_palate', 'review_taste']].corr()\n",
    "sn.heatmap(appearance_aroma_user_corr_matrix, annot=True)\n",
    "plt.show()"
   ]
  },
  {
   "cell_type": "code",
   "execution_count": 22,
   "id": "3b9d0066-bdd8-4ca7-9394-d26f88b352ca",
   "metadata": {},
   "outputs": [],
   "source": [
    "# ----- Get mean values of appearance/aroma reviews, grouped by beer id -----\n",
    "appearance_aroma_user_reviews_mean = get_mean_review_scores_dataframe(df=appearance_aroma_user_reviews.copy())"
   ]
  },
  {
   "cell_type": "code",
   "execution_count": 23,
   "id": "345f1ac1-ea63-443f-b2af-7d5d5003a283",
   "metadata": {},
   "outputs": [
    {
     "data": {
      "text/plain": [
       "beer_style\n",
       "Lambic - Unblended        8.722222\n",
       "Eisbock                   8.500661\n",
       "Russian Imperial Stout    8.425066\n",
       "dtype: float64"
      ]
     },
     "execution_count": 23,
     "metadata": {},
     "output_type": "execute_result"
    }
   ],
   "source": [
    "# ----- Get the highest sum of Appearance and Aroma grouped by beer style -----\n",
    "beer_type_group_2 = appearance_aroma_user_reviews_mean.copy().groupby('beer_style')\n",
    "beer_type_group_2[['review_appearance', 'review_aroma']].mean().sum(axis=1).sort_values(ascending=False).head(3)"
   ]
  },
  {
   "cell_type": "markdown",
   "id": "377e2d39-9f51-4bff-9292-da75a13cffcd",
   "metadata": {},
   "source": [
    "#### With this approach, we see that users with a simmilar taste, seem to enjoy Lambic - Unblended."
   ]
  },
  {
   "cell_type": "markdown",
   "id": "912d0754-3169-48ef-8b56-a99631efbfaf",
   "metadata": {},
   "source": [
    "#### We now have some base recommendations for you based on your taste. However, as soon as you have selected a beer and have given it a review, we can start to compare your taste to other reviewers tastes "
   ]
  }
 ],
 "metadata": {
  "kernelspec": {
   "display_name": "Python 3 (ipykernel)",
   "language": "python",
   "name": "python3"
  },
  "language_info": {
   "codemirror_mode": {
    "name": "ipython",
    "version": 3
   },
   "file_extension": ".py",
   "mimetype": "text/x-python",
   "name": "python",
   "nbconvert_exporter": "python",
   "pygments_lexer": "ipython3",
   "version": "3.8.5"
  }
 },
 "nbformat": 4,
 "nbformat_minor": 5
}
