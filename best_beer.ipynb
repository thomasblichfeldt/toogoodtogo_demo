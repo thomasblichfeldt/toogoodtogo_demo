{
 "cells": [
  {
   "cell_type": "markdown",
   "id": "b0c7284d-2f5c-432a-aca7-b00cd9edcc63",
   "metadata": {},
   "source": [
    "# Beer - Choosing the right one for you!"
   ]
  },
  {
   "cell_type": "code",
   "execution_count": 17,
   "id": "b0bdb87c-a2d3-4729-9399-f986b15a5163",
   "metadata": {},
   "outputs": [],
   "source": [
    "import matplotlib.pyplot as plt\n",
    "import numpy as np\n",
    "import pandas as pd\n",
    "import seaborn as sn\n",
    "\n",
    "from src.beer_utils import *"
   ]
  },
  {
   "cell_type": "code",
   "execution_count": 2,
   "id": "3332af38-b51d-4df4-8c43-21b979981df7",
   "metadata": {},
   "outputs": [],
   "source": [
    "BEER_DATA_PATH = 'data/beer_reviews.csv'"
   ]
  },
  {
   "cell_type": "code",
   "execution_count": 3,
   "id": "107f3290-a8c3-45b5-ab87-c3eb73bfb944",
   "metadata": {},
   "outputs": [],
   "source": [
    "raw_beer_data = pd.read_csv(BEER_DATA_PATH)"
   ]
  },
  {
   "cell_type": "code",
   "execution_count": 12,
   "id": "16e70c0b-07c3-4e60-9baa-2421c24b1608",
   "metadata": {},
   "outputs": [
    {
     "data": {
      "text/html": [
       "<div>\n",
       "<style scoped>\n",
       "    .dataframe tbody tr th:only-of-type {\n",
       "        vertical-align: middle;\n",
       "    }\n",
       "\n",
       "    .dataframe tbody tr th {\n",
       "        vertical-align: top;\n",
       "    }\n",
       "\n",
       "    .dataframe thead th {\n",
       "        text-align: right;\n",
       "    }\n",
       "</style>\n",
       "<table border=\"1\" class=\"dataframe\">\n",
       "  <thead>\n",
       "    <tr style=\"text-align: right;\">\n",
       "      <th></th>\n",
       "      <th>brewery_id</th>\n",
       "      <th>brewery_name</th>\n",
       "      <th>review_time</th>\n",
       "      <th>review_overall</th>\n",
       "      <th>review_aroma</th>\n",
       "      <th>review_appearance</th>\n",
       "      <th>review_profilename</th>\n",
       "      <th>beer_style</th>\n",
       "      <th>review_palate</th>\n",
       "      <th>review_taste</th>\n",
       "      <th>beer_name</th>\n",
       "      <th>beer_abv</th>\n",
       "      <th>beer_beerid</th>\n",
       "    </tr>\n",
       "  </thead>\n",
       "  <tbody>\n",
       "    <tr>\n",
       "      <th>0</th>\n",
       "      <td>10325</td>\n",
       "      <td>Vecchio Birraio</td>\n",
       "      <td>1234817823</td>\n",
       "      <td>1.5</td>\n",
       "      <td>2.0</td>\n",
       "      <td>2.5</td>\n",
       "      <td>stcules</td>\n",
       "      <td>Hefeweizen</td>\n",
       "      <td>1.5</td>\n",
       "      <td>1.5</td>\n",
       "      <td>Sausa Weizen</td>\n",
       "      <td>5.0</td>\n",
       "      <td>47986</td>\n",
       "    </tr>\n",
       "    <tr>\n",
       "      <th>1</th>\n",
       "      <td>10325</td>\n",
       "      <td>Vecchio Birraio</td>\n",
       "      <td>1235915097</td>\n",
       "      <td>3.0</td>\n",
       "      <td>2.5</td>\n",
       "      <td>3.0</td>\n",
       "      <td>stcules</td>\n",
       "      <td>English Strong Ale</td>\n",
       "      <td>3.0</td>\n",
       "      <td>3.0</td>\n",
       "      <td>Red Moon</td>\n",
       "      <td>6.2</td>\n",
       "      <td>48213</td>\n",
       "    </tr>\n",
       "    <tr>\n",
       "      <th>2</th>\n",
       "      <td>10325</td>\n",
       "      <td>Vecchio Birraio</td>\n",
       "      <td>1235916604</td>\n",
       "      <td>3.0</td>\n",
       "      <td>2.5</td>\n",
       "      <td>3.0</td>\n",
       "      <td>stcules</td>\n",
       "      <td>Foreign / Export Stout</td>\n",
       "      <td>3.0</td>\n",
       "      <td>3.0</td>\n",
       "      <td>Black Horse Black Beer</td>\n",
       "      <td>6.5</td>\n",
       "      <td>48215</td>\n",
       "    </tr>\n",
       "    <tr>\n",
       "      <th>3</th>\n",
       "      <td>10325</td>\n",
       "      <td>Vecchio Birraio</td>\n",
       "      <td>1234725145</td>\n",
       "      <td>3.0</td>\n",
       "      <td>3.0</td>\n",
       "      <td>3.5</td>\n",
       "      <td>stcules</td>\n",
       "      <td>German Pilsener</td>\n",
       "      <td>2.5</td>\n",
       "      <td>3.0</td>\n",
       "      <td>Sausa Pils</td>\n",
       "      <td>5.0</td>\n",
       "      <td>47969</td>\n",
       "    </tr>\n",
       "    <tr>\n",
       "      <th>4</th>\n",
       "      <td>1075</td>\n",
       "      <td>Caldera Brewing Company</td>\n",
       "      <td>1293735206</td>\n",
       "      <td>4.0</td>\n",
       "      <td>4.5</td>\n",
       "      <td>4.0</td>\n",
       "      <td>johnmichaelsen</td>\n",
       "      <td>American Double / Imperial IPA</td>\n",
       "      <td>4.0</td>\n",
       "      <td>4.5</td>\n",
       "      <td>Cauldron DIPA</td>\n",
       "      <td>7.7</td>\n",
       "      <td>64883</td>\n",
       "    </tr>\n",
       "  </tbody>\n",
       "</table>\n",
       "</div>"
      ],
      "text/plain": [
       "   brewery_id             brewery_name  review_time  review_overall  \\\n",
       "0       10325          Vecchio Birraio   1234817823             1.5   \n",
       "1       10325          Vecchio Birraio   1235915097             3.0   \n",
       "2       10325          Vecchio Birraio   1235916604             3.0   \n",
       "3       10325          Vecchio Birraio   1234725145             3.0   \n",
       "4        1075  Caldera Brewing Company   1293735206             4.0   \n",
       "\n",
       "   review_aroma  review_appearance review_profilename  \\\n",
       "0           2.0                2.5            stcules   \n",
       "1           2.5                3.0            stcules   \n",
       "2           2.5                3.0            stcules   \n",
       "3           3.0                3.5            stcules   \n",
       "4           4.5                4.0     johnmichaelsen   \n",
       "\n",
       "                       beer_style  review_palate  review_taste  \\\n",
       "0                      Hefeweizen            1.5           1.5   \n",
       "1              English Strong Ale            3.0           3.0   \n",
       "2          Foreign / Export Stout            3.0           3.0   \n",
       "3                 German Pilsener            2.5           3.0   \n",
       "4  American Double / Imperial IPA            4.0           4.5   \n",
       "\n",
       "                beer_name  beer_abv  beer_beerid  \n",
       "0            Sausa Weizen       5.0        47986  \n",
       "1                Red Moon       6.2        48213  \n",
       "2  Black Horse Black Beer       6.5        48215  \n",
       "3              Sausa Pils       5.0        47969  \n",
       "4           Cauldron DIPA       7.7        64883  "
      ]
     },
     "execution_count": 12,
     "metadata": {},
     "output_type": "execute_result"
    }
   ],
   "source": [
    "raw_beer_data.head(5)"
   ]
  },
  {
   "cell_type": "markdown",
   "id": "452d7098-32a1-4db1-8229-50bd7a91a120",
   "metadata": {},
   "source": [
    "# Can we use all the data?"
   ]
  },
  {
   "cell_type": "code",
   "execution_count": 5,
   "id": "4cb355b6-b307-4c5e-a8cb-4e3fbb730e23",
   "metadata": {},
   "outputs": [
    {
     "data": {
      "text/plain": [
       "brewery_id                0\n",
       "brewery_name             15\n",
       "review_time               0\n",
       "review_overall            0\n",
       "review_aroma              0\n",
       "review_appearance         0\n",
       "review_profilename      348\n",
       "beer_style                0\n",
       "review_palate             0\n",
       "review_taste              0\n",
       "beer_name                 0\n",
       "beer_abv              67785\n",
       "beer_beerid               0\n",
       "dtype: int64"
      ]
     },
     "execution_count": 5,
     "metadata": {},
     "output_type": "execute_result"
    }
   ],
   "source": [
    "raw_beer_data.isna().sum()"
   ]
  },
  {
   "cell_type": "markdown",
   "id": "444dd5cf-3453-4271-97c0-d7aececb050e",
   "metadata": {},
   "source": [
    "There are 15 datapoints without brewery name. IGNORE NOW, nice to have"
   ]
  },
  {
   "cell_type": "markdown",
   "id": "34a30b4f-adc5-421a-a8e8-4a93a30391e0",
   "metadata": {},
   "source": [
    "# Is getting drunk your ultimate goal?"
   ]
  },
  {
   "cell_type": "markdown",
   "id": "24aa626d-3ff1-4560-8556-01a451a35b8e",
   "metadata": {},
   "source": [
    "#### Then we can select your new favorite brewery solely on that parameter"
   ]
  },
  {
   "cell_type": "code",
   "execution_count": 6,
   "id": "bce33769-8711-4f79-b3aa-197b6e1d3fb1",
   "metadata": {},
   "outputs": [],
   "source": [
    "brewery_average_abv, max_average_abv, max_average_abv_name = highest_abv_by_group(df=raw_beer_data, group_type='brewery_name')"
   ]
  },
  {
   "cell_type": "code",
   "execution_count": 7,
   "id": "68563cdb-2b06-417d-99ca-48b70ce468b9",
   "metadata": {},
   "outputs": [
    {
     "data": {
      "text/plain": [
       "<AxesSubplot:xlabel='brewery_name'>"
      ]
     },
     "execution_count": 7,
     "metadata": {},
     "output_type": "execute_result"
    },
    {
     "data": {
      "image/png": "[encoded data removed]",
      "text/plain": [
       "<Figure size 432x288 with 1 Axes>"
      ]
     },
     "metadata": {
      "needs_background": "light"
     },
     "output_type": "display_data"
    }
   ],
   "source": [
    "brewery_average_abv.nlargest(10).plot(kind='bar')"
   ]
  },
  {
   "cell_type": "markdown",
   "id": "bf7c5c1d-085b-4768-9614-7903ceefc438",
   "metadata": {},
   "source": [
    "#### Or maybe we can find your new favorite beer type based on abv?"
   ]
  },
  {
   "cell_type": "code",
   "execution_count": 8,
   "id": "ad8a32f6-eff8-4610-8f67-dcb73f4f42af",
   "metadata": {},
   "outputs": [],
   "source": [
    "beer_type_average_abv, max_average_beer_type_abv, max_average_beer_type_abv_name = highest_abv_by_group(df=raw_beer_data, group_type='beer_style')"
   ]
  },
  {
   "cell_type": "code",
   "execution_count": 9,
   "id": "63f490b1-7bd3-4917-bfa5-fa113da357b2",
   "metadata": {},
   "outputs": [
    {
     "data": {
      "text/plain": [
       "<AxesSubplot:xlabel='beer_style'>"
      ]
     },
     "execution_count": 9,
     "metadata": {},
     "output_type": "execute_result"
    },
    {
     "data": {
      "image/png": "[encoded data removed]",
      "text/plain": [
       "<Figure size 432x288 with 1 Axes>"
      ]
     },
     "metadata": {
      "needs_background": "light"
     },
     "output_type": "display_data"
    }
   ],
   "source": [
    "beer_type_average_abv.nlargest(10).plot(kind='bar')"
   ]
  },
  {
   "cell_type": "markdown",
   "id": "de446b86-ace3-4265-894a-55018de3623d",
   "metadata": {},
   "source": [
    "# But... What if we also care about other aspects of the beer?"
   ]
  },
  {
   "cell_type": "markdown",
   "id": "199e294f-0271-4cb0-a18b-bc48a12d7f90",
   "metadata": {},
   "source": [
    "#### If we actually want a pleasant experience, we might need to look at other factors that makes a beer great"
   ]
  },
  {
   "cell_type": "code",
   "execution_count": 15,
   "id": "b7a4e819-955a-45ed-9e5e-67c0263395e3",
   "metadata": {},
   "outputs": [
    {
     "data": {
      "text/html": [
       "<div>\n",
       "<style scoped>\n",
       "    .dataframe tbody tr th:only-of-type {\n",
       "        vertical-align: middle;\n",
       "    }\n",
       "\n",
       "    .dataframe tbody tr th {\n",
       "        vertical-align: top;\n",
       "    }\n",
       "\n",
       "    .dataframe thead th {\n",
       "        text-align: right;\n",
       "    }\n",
       "</style>\n",
       "<table border=\"1\" class=\"dataframe\">\n",
       "  <thead>\n",
       "    <tr style=\"text-align: right;\">\n",
       "      <th></th>\n",
       "      <th>review_overall</th>\n",
       "      <th>review_aroma</th>\n",
       "      <th>review_appearance</th>\n",
       "      <th>review_palate</th>\n",
       "      <th>review_taste</th>\n",
       "    </tr>\n",
       "  </thead>\n",
       "  <tbody>\n",
       "    <tr>\n",
       "      <th>0</th>\n",
       "      <td>1.5</td>\n",
       "      <td>2.0</td>\n",
       "      <td>2.5</td>\n",
       "      <td>1.5</td>\n",
       "      <td>1.5</td>\n",
       "    </tr>\n",
       "    <tr>\n",
       "      <th>1</th>\n",
       "      <td>3.0</td>\n",
       "      <td>2.5</td>\n",
       "      <td>3.0</td>\n",
       "      <td>3.0</td>\n",
       "      <td>3.0</td>\n",
       "    </tr>\n",
       "    <tr>\n",
       "      <th>2</th>\n",
       "      <td>3.0</td>\n",
       "      <td>2.5</td>\n",
       "      <td>3.0</td>\n",
       "      <td>3.0</td>\n",
       "      <td>3.0</td>\n",
       "    </tr>\n",
       "    <tr>\n",
       "      <th>3</th>\n",
       "      <td>3.0</td>\n",
       "      <td>3.0</td>\n",
       "      <td>3.5</td>\n",
       "      <td>2.5</td>\n",
       "      <td>3.0</td>\n",
       "    </tr>\n",
       "    <tr>\n",
       "      <th>4</th>\n",
       "      <td>4.0</td>\n",
       "      <td>4.5</td>\n",
       "      <td>4.0</td>\n",
       "      <td>4.0</td>\n",
       "      <td>4.5</td>\n",
       "    </tr>\n",
       "  </tbody>\n",
       "</table>\n",
       "</div>"
      ],
      "text/plain": [
       "   review_overall  review_aroma  review_appearance  review_palate  \\\n",
       "0             1.5           2.0                2.5            1.5   \n",
       "1             3.0           2.5                3.0            3.0   \n",
       "2             3.0           2.5                3.0            3.0   \n",
       "3             3.0           3.0                3.5            2.5   \n",
       "4             4.0           4.5                4.0            4.0   \n",
       "\n",
       "   review_taste  \n",
       "0           1.5  \n",
       "1           3.0  \n",
       "2           3.0  \n",
       "3           3.0  \n",
       "4           4.5  "
      ]
     },
     "execution_count": 15,
     "metadata": {},
     "output_type": "execute_result"
    }
   ],
   "source": [
    "raw_beer_data[['review_overall','review_aroma', 'review_appearance', 'review_palate', 'review_taste']].head(5)"
   ]
  },
  {
   "cell_type": "markdown",
   "id": "2443918a-2fa9-4201-a19f-345ef0e3f927",
   "metadata": {},
   "source": [
    "# How many reviews are enough for us to feel comfortible with the accuracy of the reviews?\n",
    "\n",
    "According to Amazon, there should be atleast 25 reviews on a product before we trust it: https://www.searchenginejournal.com/amazon-product-reviews-best-practices/388179/#close\n",
    "\n",
    "This might be a bit different in the beer world as the people reviewing might be more serious, so lets cut the threshold to atleast 10 reviews for now"
   ]
  },
  {
   "cell_type": "code",
   "execution_count": 10,
   "id": "9f9d4d6b-e3f5-4ced-906c-864d079691f5",
   "metadata": {},
   "outputs": [
    {
     "name": "stdout",
     "output_type": "stream",
     "text": [
      "Removed: 129994 reviews\n",
      "Remaining reviews: 1456620\n"
     ]
    }
   ],
   "source": [
    "# ----- Remove beers that have less than 25 reviews -----\n",
    "filtered_beer_data = raw_beer_data[raw_beer_data.groupby('beer_beerid').beer_beerid.transform('count') >= 10]\n",
    "\n",
    "print(f\"Removed: {raw_beer_data.shape[0] - filtered_beer_data.shape[0]} reviews\")\n",
    "print(f\"Remaining reviews: {filtered_beer_data.shape[0]}\")"
   ]
  },
  {
   "cell_type": "code",
   "execution_count": 18,
   "id": "9e342aeb-2459-441c-bb2c-fa1006123cb3",
   "metadata": {},
   "outputs": [
    {
     "data": {
      "image/png": "[encoded data removed]",
      "text/plain": [
       "<Figure size 432x288 with 2 Axes>"
      ]
     },
     "metadata": {
      "needs_background": "light"
     },
     "output_type": "display_data"
    }
   ],
   "source": [
    "corr_matrix = filtered_beer_data[['review_overall','review_aroma', 'review_appearance', 'review_palate', 'review_taste']].corr()\n",
    "sn.heatmap(corr_matrix, annot=True)\n",
    "plt.show()"
   ]
  },
  {
   "cell_type": "code",
   "execution_count": null,
   "id": "42140df5-a929-4006-a2db-5061abd4665d",
   "metadata": {},
   "outputs": [],
   "source": []
  }
 ],
 "metadata": {
  "kernelspec": {
   "display_name": "Python 3 (ipykernel)",
   "language": "python",
   "name": "python3"
  },
  "language_info": {
   "codemirror_mode": {
    "name": "ipython",
    "version": 3
   },
   "file_extension": ".py",
   "mimetype": "text/x-python",
   "name": "python",
   "nbconvert_exporter": "python",
   "pygments_lexer": "ipython3",
   "version": "3.8.5"
  }
 },
 "nbformat": 4,
 "nbformat_minor": 5
}
